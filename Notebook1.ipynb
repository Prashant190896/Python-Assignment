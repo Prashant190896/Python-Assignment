{
 "cells": [
  {
   "cell_type": "code",
   "execution_count": 12,
   "metadata": {},
   "outputs": [
    {
     "name": "stdout",
     "output_type": "stream",
     "text": [
      "hello world\n"
     ]
    }
   ],
   "source": [
    "print(\"hello world\")"
   ]
  },
  {
   "cell_type": "code",
   "execution_count": 13,
   "metadata": {},
   "outputs": [
    {
     "ename": "ValueError",
     "evalue": "invalid literal for int() with base 10: ''",
     "output_type": "error",
     "traceback": [
      "\u001b[1;31m---------------------------------------------------------------------------\u001b[0m",
      "\u001b[1;31mValueError\u001b[0m                                Traceback (most recent call last)",
      "Cell \u001b[1;32mIn[13], line 1\u001b[0m\n\u001b[1;32m----> 1\u001b[0m noofcars\u001b[38;5;241m=\u001b[39m\u001b[38;5;28;43mint\u001b[39;49m\u001b[43m(\u001b[49m\u001b[38;5;28;43minput\u001b[39;49m\u001b[43m(\u001b[49m\u001b[38;5;124;43m\"\u001b[39;49m\u001b[38;5;124;43menter no of cars\u001b[39;49m\u001b[38;5;124;43m\"\u001b[39;49m\u001b[43m)\u001b[49m\u001b[43m)\u001b[49m\n\u001b[0;32m      2\u001b[0m noofbikes\u001b[38;5;241m=\u001b[39m\u001b[38;5;28mint\u001b[39m(\u001b[38;5;28minput\u001b[39m(\u001b[38;5;124m\"\u001b[39m\u001b[38;5;124menter no of bikes\u001b[39m\u001b[38;5;124m\"\u001b[39m))\n\u001b[0;32m      3\u001b[0m costofcar\u001b[38;5;241m=\u001b[39m\u001b[38;5;241m200\u001b[39m\n",
      "\u001b[1;31mValueError\u001b[0m: invalid literal for int() with base 10: ''"
     ]
    }
   ],
   "source": [
    "noofcars=int(input(\"enter no of cars\"))\n",
    "noofbikes=int(input(\"enter no of bikes\"))\n",
    "costofcar=200\n",
    "costofbike=20\n",
    "result=noofcars*costofcar+noofbikes*costofbike\n",
    "print(result)"
   ]
  },
  {
   "cell_type": "code",
   "execution_count": null,
   "metadata": {},
   "outputs": [
    {
     "name": "stdout",
     "output_type": "stream",
     "text": [
      "hello\n"
     ]
    }
   ],
   "source": [
    "print(\"hello\")"
   ]
  },
  {
   "cell_type": "code",
   "execution_count": null,
   "metadata": {},
   "outputs": [
    {
     "name": "stdout",
     "output_type": "stream",
     "text": [
      "30\n"
     ]
    }
   ],
   "source": [
    "bike=20\n",
    "car=10\n",
    "result=bike+car\n",
    "print(result)"
   ]
  },
  {
   "cell_type": "code",
   "execution_count": null,
   "metadata": {},
   "outputs": [
    {
     "name": "stdout",
     "output_type": "stream",
     "text": [
      "4.333333333333333\n",
      "class was good\n"
     ]
    }
   ],
   "source": [
    "name1=\"sanjoy\"\n",
    "name2=\"oindrila\"\n",
    "name3=\"Sushil\"\n",
    "grade1=4\n",
    "grade2=4\n",
    "grade3=5\n",
    "average=(grade1+grade2+grade3)/3\n",
    "print(average)\n",
    "###conditions\n",
    "####i need to understand whether the rating was good or bad\n",
    "###anything above 4 is good and below is need to be looked at\n",
    "if(average>4): ###true / false\n",
    "    print(\"class was good\")\n",
    "else:\n",
    "    print(\"The class needs to be revised\")\n",
    "    print(\"who is the faculty\")"
   ]
  },
  {
   "cell_type": "code",
   "execution_count": null,
   "metadata": {},
   "outputs": [
    {
     "name": "stdout",
     "output_type": "stream",
     "text": [
      "input name sanjoy\n"
     ]
    }
   ],
   "source": [
    "###1 student who will have 5 subjests. name of the student as an input from the user and marks of the subjects.\n",
    "###you need to calculate the percentage of the marks.\n",
    "###calculate the grades. >=90=A, 80-89=B, 70-79=C,60-69= D, <60 =F\n",
    "\n",
    "name=input(\"plese enter student name\")\n",
    "print(\"input name\",name)"
   ]
  },
  {
   "cell_type": "code",
   "execution_count": 15,
   "metadata": {},
   "outputs": [
    {
     "name": "stdout",
     "output_type": "stream",
     "text": [
      "input name Prasghant\n",
      "name of student Prasghant\n",
      "percentage of student 90.0\n",
      "B\n"
     ]
    }
   ],
   "source": [
    "name=input(\"please enter student name\")\n",
    "print(\"input name\",name)\n",
    "sub1=int(input(\"marks scored in subject 1\"))\n",
    "sub2=int(input(\"marks scored in subject 2\"))\n",
    "sub3=int(input(\"marks scored in subject 3\"))\n",
    "sub4=int(input(\"marks scored in subject 4\"))\n",
    "sub5=int(input(\"marks scored in subject 5\"))\n",
    "percentage=((sub1+sub2+sub3+sub4+sub5)/500)*100\n",
    "print(\"name of student\",name)\n",
    "print(\"percentage of student\",percentage)\n",
    "if(percentage>90):\n",
    "    print(\"A\")\n",
    "elif(percentage>=80):\n",
    "    print(\"B\")\n",
    "elif(percentage>70):\n",
    "    print(\"C\")\n",
    "elif(percentage>60):\n",
    "    print(\"D\")\n",
    "elif(percentage<60):\n",
    "    print(\"F\")"
   ]
  },
  {
   "cell_type": "code",
   "execution_count": null,
   "metadata": {},
   "outputs": [],
   "source": [
    "name=input(\"Please enter student's name\")\n",
    "subject1=int(input(\"please enter the marks of the first subject\"))\n",
    "total1=int(input(\"please enter the total marks of the first subject\"))\n",
    "subject2=int(input(\"please enter the marks of the first subject\"))\n",
    "total1=int(input(\"please enter the total marks of the first subject\"))\n",
    "subject3=int(input(\"please enter the marks of the first subject\"))\n",
    "total1=int(input(\"please enter the total marks of the first subject\"))\n",
    "###total marks of the subjects are 100\n",
    "percentage=(subject1+subject2+subject3/total1+total2+total3)*100\n",
    "if(percentage>80):\n",
    "    print(\"Grade A\")\n",
    "elif(percentage >70):\n",
    "    print(\"Grade B\")\n",
    "else:\n",
    "    print(\"Grade F\")"
   ]
  },
  {
   "cell_type": "code",
   "execution_count": 21,
   "metadata": {},
   "outputs": [
    {
     "name": "stdout",
     "output_type": "stream",
     "text": [
      "[90]\n",
      "[100]\n",
      "[90, 40]\n",
      "[100, 50]\n",
      "[90, 40, 80]\n",
      "[100, 50, 100]\n",
      "Grade A\n"
     ]
    }
   ],
   "source": [
    "name=input(\"Please enter student's name\")\n",
    "subjects=[]\n",
    "totals=[]\n",
    "subject=int(input(\"please enter the marks of the first subject\"))\n",
    "subjects.append(subject)\n",
    "total=int(input(\"please enter the total marks of the first subject\"))\n",
    "totals.append(total)\n",
    "print(subjects)\n",
    "print(totals)\n",
    "\n",
    "subject=int(input(\"please enter the marks of the second subject\"))\n",
    "subjects.append(subject)\n",
    "total=int(input(\"please enter the total marks of the second subject\"))\n",
    "totals.append(total)\n",
    "print(subjects)\n",
    "print(totals)\n",
    "\n",
    "subject=int(input(\"please enter the marks of the third subject\"))\n",
    "subjects.append(subject)\n",
    "total=int(input(\"please enter the total marks of the third subject\"))\n",
    "totals.append(total)\n",
    "print(subjects)\n",
    "print(totals)\n",
    "\n",
    "percentage=(subjects[0]+subjects[1]+subjects[2]/totals[0]+totals[1]+totals[2])*100\n",
    "if(percentage>80):\n",
    "    print(\"Grade A\")\n",
    "elif(percentage>70):\n",
    "    print(\"Grade B\")\n",
    "else:\n",
    "    print(\"Grade F\")"
   ]
  }
 ],
 "metadata": {
  "kernelspec": {
   "display_name": "Python 3",
   "language": "python",
   "name": "python3"
  },
  "language_info": {
   "codemirror_mode": {
    "name": "ipython",
    "version": 3
   },
   "file_extension": ".py",
   "mimetype": "text/x-python",
   "name": "python",
   "nbconvert_exporter": "python",
   "pygments_lexer": "ipython3",
   "version": "3.12.4"
  }
 },
 "nbformat": 4,
 "nbformat_minor": 2
}
